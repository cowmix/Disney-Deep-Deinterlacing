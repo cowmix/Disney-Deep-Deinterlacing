{
 "cells": [
  {
   "attachments": {},
   "cell_type": "markdown",
   "metadata": {},
   "source": [
    "# Evaluating the performance of the deinterlacing network"
   ]
  },
  {
   "cell_type": "code",
   "execution_count": null,
   "metadata": {},
   "outputs": [],
   "source": [
    "import matplotlib.pyplot as plt\n",
    "import numpy as np\n",
    "import torch\n",
    "from src.models import initialize_model_from_config\n",
    "from src.datasets import initialize_dataset_from_config\n",
    "from src.utils.common import remove_axis\n",
    "\n",
    "checkpoint_dir_path = r'pretrained_checkpoint'\n",
    "\n",
    "# Load the model checkpoint\n",
    "model = initialize_model_from_config(checkpoint_dir_path+'\\model_config.yaml')\n",
    "# Initialize the dataset\n",
    "dataset = initialize_dataset_from_config(checkpoint_dir_path+'\\dataset_config.yaml', train=True)\n",
    "# Construct a dataloader iterator\n",
    "dl = dataset.get_dataloader(batch_size=1, num_workers=0)\n",
    "it = iter(dl)\n",
    "\n",
    "# # The number of samples to process and display\n",
    "N = 3\n",
    "\n",
    "fig, axes = plt.subplots(N, 3, figsize=(14, 3*N))\n",
    "for n in range(N):\n",
    "    # Get sample from dataloader\n",
    "    fields, gt = next(it)\n",
    "    # Process using the network\n",
    "    network = model.forward(fields).detach()\n",
    "\n",
    "    torch.clamp_(network, 0, 1)\n",
    "\n",
    "    num_channels = model.config.num_color_channels\n",
    "\n",
    "    start_index, end_index = model.get_middle_field_channel_indices(\n",
    "        fields,\n",
    "        num_channels\n",
    "    )\n",
    "\n",
    "    # Also perform plain linear interpolation\n",
    "    interp = model._linear_row_interpolation(fields[:, start_index:end_index])\n",
    "\n",
    "    # Construct complete images from known and estimated fields\n",
    "    im_true = model.sample_to_im((fields, gt), num_channels)[100:200, 100:300, :]\n",
    "    im_network = model.sample_to_im((fields, network), num_channels)[100:200, 100:300, :]\n",
    "    im_interp = model.sample_to_im((fields, interp), num_channels)[100:200, 100:300, :]\n",
    "\n",
    "    # Compute the MSE\n",
    "    error_network = np.mean((im_true-im_network)**2)\n",
    "    error_interpolation = np.mean((im_true-im_interp)**2)\n",
    "\n",
    "    # Plot the results\n",
    "    axes[n, 0].imshow(im_network)\n",
    "    fontweight = 'bold' if error_interpolation > error_network else 'normal'\n",
    "    axes[n, 0].set_title(f'network mse: {error_network:.6e}', fontweight=fontweight)\n",
    "\n",
    "    axes[n, 1].imshow(im_interp)\n",
    "    fontweight = 'bold' if error_interpolation < error_network else 'normal'\n",
    "    axes[n, 1].set_title(f'linear interpolation mse: {error_interpolation:.6e}', fontweight=fontweight)\n",
    "\n",
    "    axes[n, 2].imshow(im_true)\n",
    "    axes[n, 2].set_title('true')\n",
    "\n",
    "# Clean up the plot\n",
    "remove_axis(axes)\n",
    "plt.tight_layout()"
   ]
  }
 ],
 "metadata": {
  "kernelspec": {
   "display_name": "ml",
   "language": "python",
   "name": "python3"
  },
  "language_info": {
   "codemirror_mode": {
    "name": "ipython",
    "version": 3
   },
   "file_extension": ".py",
   "mimetype": "text/x-python",
   "name": "python",
   "nbconvert_exporter": "python",
   "pygments_lexer": "ipython3",
   "version": "3.9.15"
  },
  "orig_nbformat": 4,
  "vscode": {
   "interpreter": {
    "hash": "888715c74c3401bf93140bb2a4851a22a505741980c7cf172c8cead7e1d45098"
   }
  }
 },
 "nbformat": 4,
 "nbformat_minor": 2
}
